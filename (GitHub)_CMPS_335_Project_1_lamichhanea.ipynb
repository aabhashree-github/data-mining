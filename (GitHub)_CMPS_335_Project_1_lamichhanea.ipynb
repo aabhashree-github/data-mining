{
  "nbformat": 4,
  "nbformat_minor": 0,
  "metadata": {
    "colab": {
      "name": "(GitHub) CMPS 335 - Project 1 lamichhanea.ipynb",
      "provenance": [],
      "collapsed_sections": [],
      "include_colab_link": true
    },
    "kernelspec": {
      "display_name": "Python 3",
      "name": "python3"
    }
  },
  "cells": [
    {
      "cell_type": "markdown",
      "metadata": {
        "id": "view-in-github",
        "colab_type": "text"
      },
      "source": [
        "<a href=\"https://colab.research.google.com/github/aabhashree-github/python-visualization/blob/main/(GitHub)_CMPS_335_Project_1_lamichhanea.ipynb\" target=\"_parent\"><img src=\"https://colab.research.google.com/assets/colab-badge.svg\" alt=\"Open In Colab\"/></a>"
      ]
    },
    {
      "cell_type": "markdown",
      "metadata": {
        "id": "21qeDQRaxAgb"
      },
      "source": [
        "# Project One\n",
        "\n",
        "This assignment uses a famous dataset called the Pima Indians Diabetes dataset. The Pima people are Native Americans in the Southwest. Researchers gathered this dataset while trying to understand the incidence of diabetes amongst women in the group. \n",
        "\n",
        "The dataset has medical measurements of individuals and an outcome, 0 or 1, indicating whether that individual tested postive for diabetes. The dataset is used to test  classification algorithms ability to predict diabetes given the medical measurements.\n"
      ]
    },
    {
      "cell_type": "code",
      "metadata": {
        "id": "exh3ugJCw3Xt"
      },
      "source": [
        "import numpy as np\n",
        "import pandas as pd\n",
        "import matplotlib.pyplot as plt\n",
        "from sklearn.model_selection import train_test_split # used to make training & test sets\n",
        "from sklearn.preprocessing import StandardScaler # used to scale data to zero mean/unit variance\n",
        "from sklearn.naive_bayes import GaussianNB # The naive bayes algorithm\n",
        "from sklearn.neighbors import KNeighborsClassifier # The k-nearest-neighbors algorithm\n",
        "from sklearn.metrics import plot_confusion_matrix # Generate a confusion matrix\n",
        "from sklearn import tree # Import the decision tree namespace"
      ],
      "execution_count": null,
      "outputs": []
    },
    {
      "cell_type": "code",
      "metadata": {
        "id": "_l5hI8h2AlfM",
        "outputId": "9db0e4ad-dfc6-4cc4-f7ee-7798a8ec1364",
        "colab": {
          "base_uri": "https://localhost:8080/",
          "height": 35
        }
      },
      "source": [
        "from google.colab import drive\n",
        "drive.mount('/content/drive')"
      ],
      "execution_count": null,
      "outputs": [
        {
          "output_type": "stream",
          "text": [
            "Mounted at /content/drive\n"
          ],
          "name": "stdout"
        }
      ]
    },
    {
      "cell_type": "code",
      "metadata": {
        "id": "fv11Ti_Ewd6Q",
        "outputId": "7a36b21a-05c4-40ea-b41f-70b4fe09fe59",
        "colab": {
          "base_uri": "https://localhost:8080/",
          "height": 206
        }
      },
      "source": [
        "pima = pd.read_csv('/content/drive/My Drive/Hollins Data Science/Datasets/pima_indians_diabetes.csv')\n",
        "pima.head()"
      ],
      "execution_count": null,
      "outputs": [
        {
          "output_type": "execute_result",
          "data": {
            "text/html": [
              "<div>\n",
              "<style scoped>\n",
              "    .dataframe tbody tr th:only-of-type {\n",
              "        vertical-align: middle;\n",
              "    }\n",
              "\n",
              "    .dataframe tbody tr th {\n",
              "        vertical-align: top;\n",
              "    }\n",
              "\n",
              "    .dataframe thead th {\n",
              "        text-align: right;\n",
              "    }\n",
              "</style>\n",
              "<table border=\"1\" class=\"dataframe\">\n",
              "  <thead>\n",
              "    <tr style=\"text-align: right;\">\n",
              "      <th></th>\n",
              "      <th>Pregnancies</th>\n",
              "      <th>Glucose</th>\n",
              "      <th>BloodPressure</th>\n",
              "      <th>SkinThickness</th>\n",
              "      <th>Insulin</th>\n",
              "      <th>BMI</th>\n",
              "      <th>DiabetesPedigreeFunction</th>\n",
              "      <th>Age</th>\n",
              "      <th>Outcome</th>\n",
              "    </tr>\n",
              "  </thead>\n",
              "  <tbody>\n",
              "    <tr>\n",
              "      <th>0</th>\n",
              "      <td>6</td>\n",
              "      <td>148</td>\n",
              "      <td>72</td>\n",
              "      <td>35</td>\n",
              "      <td>0</td>\n",
              "      <td>33.6</td>\n",
              "      <td>0.627</td>\n",
              "      <td>50</td>\n",
              "      <td>1</td>\n",
              "    </tr>\n",
              "    <tr>\n",
              "      <th>1</th>\n",
              "      <td>1</td>\n",
              "      <td>85</td>\n",
              "      <td>66</td>\n",
              "      <td>29</td>\n",
              "      <td>0</td>\n",
              "      <td>26.6</td>\n",
              "      <td>0.351</td>\n",
              "      <td>31</td>\n",
              "      <td>0</td>\n",
              "    </tr>\n",
              "    <tr>\n",
              "      <th>2</th>\n",
              "      <td>8</td>\n",
              "      <td>183</td>\n",
              "      <td>64</td>\n",
              "      <td>0</td>\n",
              "      <td>0</td>\n",
              "      <td>23.3</td>\n",
              "      <td>0.672</td>\n",
              "      <td>32</td>\n",
              "      <td>1</td>\n",
              "    </tr>\n",
              "    <tr>\n",
              "      <th>3</th>\n",
              "      <td>1</td>\n",
              "      <td>89</td>\n",
              "      <td>66</td>\n",
              "      <td>23</td>\n",
              "      <td>94</td>\n",
              "      <td>28.1</td>\n",
              "      <td>0.167</td>\n",
              "      <td>21</td>\n",
              "      <td>0</td>\n",
              "    </tr>\n",
              "    <tr>\n",
              "      <th>4</th>\n",
              "      <td>0</td>\n",
              "      <td>137</td>\n",
              "      <td>40</td>\n",
              "      <td>35</td>\n",
              "      <td>168</td>\n",
              "      <td>43.1</td>\n",
              "      <td>2.288</td>\n",
              "      <td>33</td>\n",
              "      <td>1</td>\n",
              "    </tr>\n",
              "  </tbody>\n",
              "</table>\n",
              "</div>"
            ],
            "text/plain": [
              "   Pregnancies  Glucose  BloodPressure  ...  DiabetesPedigreeFunction  Age  Outcome\n",
              "0            6      148             72  ...                     0.627   50        1\n",
              "1            1       85             66  ...                     0.351   31        0\n",
              "2            8      183             64  ...                     0.672   32        1\n",
              "3            1       89             66  ...                     0.167   21        0\n",
              "4            0      137             40  ...                     2.288   33        1\n",
              "\n",
              "[5 rows x 9 columns]"
            ]
          },
          "metadata": {
            "tags": []
          },
          "execution_count": 3
        }
      ]
    },
    {
      "cell_type": "code",
      "metadata": {
        "id": "ZH2brHik8W_1",
        "outputId": "575e3cbe-d384-44a7-ef48-9756209b83b5",
        "colab": {
          "base_uri": "https://localhost:8080/",
          "height": 35
        }
      },
      "source": [
        "pima.shape"
      ],
      "execution_count": null,
      "outputs": [
        {
          "output_type": "execute_result",
          "data": {
            "text/plain": [
              "(768, 9)"
            ]
          },
          "metadata": {
            "tags": []
          },
          "execution_count": 4
        }
      ]
    },
    {
      "cell_type": "markdown",
      "metadata": {
        "id": "CTlAQO_UhfhW"
      },
      "source": [
        "# Part One\n",
        "\n",
        "The goal of this part is to compare three different types of models trained on the Pima dataset.\n",
        "\n",
        "1) Generate training and test data from the Pima dataset.\n",
        "\n",
        "2) Create a Guassian Naive Bayes model using the default parameters and fit it to the training data. Then plot the resulting confusion matrix using the testing data.\n",
        "\n",
        "3) Create a K Nearest Neigbors model using the default parameters and fit it to the training data. Then plot the resulting confusion matrix using the testing data.\n",
        "\n",
        "4) Create a Decision Tree model using entropy for attribute selection and a depth limit of 3. Then plot the resulting confusion matrix using the testing data. As an example here is the code for this:\n",
        "\n",
        "```\n",
        "# Create and fit the model using entropy separation and a maximum depth\n",
        "dt_model = tree.DecisionTreeClassifier(criterion='entropy', max_depth=3)\n",
        "dt_model.fit(training_features, training_targets)\n",
        "\n",
        "# Plot the confusion matrix\n",
        "plot_confusion_matrix(dt_model, testing_features, testing_targets, labels=[1,0])\n",
        "```\n",
        "5) Plot the resulting tree using the code below:\n",
        "```\n",
        "# Let's check out the tree\n",
        "plt.figure(figsize=(20,12))\n",
        "tree.plot_tree(dt_model)\n",
        "plt.show()\n",
        "```\n"
      ]
    },
    {
      "cell_type": "code",
      "metadata": {
        "id": "vfiMQ--4DDAp"
      },
      "source": [
        "#1.\n",
        "# Generating training and test data for the Pima dataset\n",
        "training_set, test_set = train_test_split(pima, test_size = 0.20)\n",
        "\n",
        "#Use the first two features for training\n",
        "#Using only two features means we can plot the training points\n",
        "training_features = training_set.iloc[:,:-1]\n",
        "#Targets are at the end\n",
        "training_targets = training_set.iloc[:,-1]\n",
        "\n",
        "#Pull out the same features and targets from test set\n",
        "testing_features = test_set.iloc[:,:-1]\n",
        "testing_targets = test_set.iloc[:,-1]\n"
      ],
      "execution_count": null,
      "outputs": []
    },
    {
      "cell_type": "code",
      "metadata": {
        "id": "RQ9LdDdjFGH2",
        "outputId": "952b2732-1601-43ca-ffdf-c2acb3dbed87",
        "colab": {
          "base_uri": "https://localhost:8080/",
          "height": 35
        }
      },
      "source": [
        "#2.\n",
        "#Creating a Guassian Naive Bayes Model using the default parameters and fitting it to the training data\n",
        "gnb_model = GaussianNB()\n",
        "gnb_model.fit(training_features, training_targets)"
      ],
      "execution_count": null,
      "outputs": [
        {
          "output_type": "execute_result",
          "data": {
            "text/plain": [
              "GaussianNB(priors=None, var_smoothing=1e-09)"
            ]
          },
          "metadata": {
            "tags": []
          },
          "execution_count": 6
        }
      ]
    },
    {
      "cell_type": "code",
      "metadata": {
        "id": "nkUN2xUoFGXC",
        "outputId": "d28c1f6f-6569-4fbf-fa65-cdae31f52a58",
        "colab": {
          "base_uri": "https://localhost:8080/",
          "height": 297
        }
      },
      "source": [
        "#Plotting the resulting confusion matrix using the testing data\n",
        "plot_confusion_matrix(gnb_model, testing_features, testing_targets, labels=[1, 0])"
      ],
      "execution_count": null,
      "outputs": [
        {
          "output_type": "execute_result",
          "data": {
            "text/plain": [
              "<sklearn.metrics._plot.confusion_matrix.ConfusionMatrixDisplay at 0x7f9bc7447f98>"
            ]
          },
          "metadata": {
            "tags": []
          },
          "execution_count": 7
        },
        {
          "output_type": "display_data",
          "data": {
            "image/png": "[encoded data removed]",
            "text/plain": [
              "<Figure size 432x288 with 2 Axes>"
            ]
          },
          "metadata": {
            "tags": [],
            "needs_background": "light"
          }
        }
      ]
    },
    {
      "cell_type": "code",
      "metadata": {
        "id": "L2IR2USsFGiR",
        "outputId": "c92dd92b-570f-4d8b-b192-d48a226a032a",
        "colab": {
          "base_uri": "https://localhost:8080/",
          "height": 72
        }
      },
      "source": [
        "#3.\n",
        "#Creating a K-nearest neighbors model using the default parameters and fitting it to the training data\n",
        "knn1_model = KNeighborsClassifier(metric='euclidean', n_neighbors=5)\n",
        "knn1_model.fit(training_features, training_targets)"
      ],
      "execution_count": null,
      "outputs": [
        {
          "output_type": "execute_result",
          "data": {
            "text/plain": [
              "KNeighborsClassifier(algorithm='auto', leaf_size=30, metric='euclidean',\n",
              "                     metric_params=None, n_jobs=None, n_neighbors=5, p=2,\n",
              "                     weights='uniform')"
            ]
          },
          "metadata": {
            "tags": []
          },
          "execution_count": 8
        }
      ]
    },
    {
      "cell_type": "code",
      "metadata": {
        "id": "21RVk_W1Ip6e",
        "outputId": "344730c9-3e63-4d96-e8f2-be78fb39dd99",
        "colab": {
          "base_uri": "https://localhost:8080/",
          "height": 297
        }
      },
      "source": [
        "#Plotting the resulting confusion matrix using the testing data\n",
        "plot_confusion_matrix(knn1_model, testing_features, testing_targets, labels=[1, 0])"
      ],
      "execution_count": null,
      "outputs": [
        {
          "output_type": "execute_result",
          "data": {
            "text/plain": [
              "<sklearn.metrics._plot.confusion_matrix.ConfusionMatrixDisplay at 0x7f9bc72da908>"
            ]
          },
          "metadata": {
            "tags": []
          },
          "execution_count": 9
        },
        {
          "output_type": "display_data",
          "data": {
            "image/png": "[encoded data removed]",
            "text/plain": [
              "<Figure size 432x288 with 2 Axes>"
            ]
          },
          "metadata": {
            "tags": [],
            "needs_background": "light"
          }
        }
      ]
    },
    {
      "cell_type": "code",
      "metadata": {
        "id": "LF3MkTISIqCN",
        "outputId": "84def648-d6b8-4411-9fc9-ea58b7914bd5",
        "colab": {
          "base_uri": "https://localhost:8080/",
          "height": 126
        }
      },
      "source": [
        "#4.\n",
        "#Creating a Decision Tree model using entropy for attribute selection and a depth limit of 3\n",
        "dtpima_model = tree.DecisionTreeClassifier(criterion='entropy', max_depth=3)\n",
        "dtpima_model.fit(training_features, training_targets)"
      ],
      "execution_count": null,
      "outputs": [
        {
          "output_type": "execute_result",
          "data": {
            "text/plain": [
              "DecisionTreeClassifier(ccp_alpha=0.0, class_weight=None, criterion='entropy',\n",
              "                       max_depth=3, max_features=None, max_leaf_nodes=None,\n",
              "                       min_impurity_decrease=0.0, min_impurity_split=None,\n",
              "                       min_samples_leaf=1, min_samples_split=2,\n",
              "                       min_weight_fraction_leaf=0.0, presort='deprecated',\n",
              "                       random_state=None, splitter='best')"
            ]
          },
          "metadata": {
            "tags": []
          },
          "execution_count": 10
        }
      ]
    },
    {
      "cell_type": "code",
      "metadata": {
        "id": "G3PqDGmxNMYN",
        "outputId": "5d12bbe3-9a7a-44e5-ca7a-aaf01040bbc9",
        "colab": {
          "base_uri": "https://localhost:8080/",
          "height": 297
        }
      },
      "source": [
        "#Plotting the resulting confusion matrix using the testing data\n",
        "plot_confusion_matrix(dtpima_model, testing_features, testing_targets, labels=[1,0])"
      ],
      "execution_count": null,
      "outputs": [
        {
          "output_type": "execute_result",
          "data": {
            "text/plain": [
              "<sklearn.metrics._plot.confusion_matrix.ConfusionMatrixDisplay at 0x7f9bc6e41c88>"
            ]
          },
          "metadata": {
            "tags": []
          },
          "execution_count": 11
        },
        {
          "output_type": "display_data",
          "data": {
            "image/png": "[encoded data removed]",
            "text/plain": [
              "<Figure size 432x288 with 2 Axes>"
            ]
          },
          "metadata": {
            "tags": [],
            "needs_background": "light"
          }
        }
      ]
    },
    {
      "cell_type": "markdown",
      "metadata": {
        "id": "aGorZutbmJeo"
      },
      "source": [
        "## Short Answer One\n",
        "\n",
        "Run your above code twice. Why do the results of the models change? What is happening?\n",
        "\n",
        "Now evaluate each model by looking at the confusion matrices. For this binary classification task the confusion matrices have the form:\n",
        "\n",
        "```\n",
        "True Positive | False Negative\n",
        "------------------------------\n",
        "False Postive | True Negative\n",
        "```\n",
        "Accuracy is (TP + TN)/(TP + FN + FP + TN). Run all of the above code three times (including the separation of training and testing sets) and calculate the accuracy for each model for each run. What were their average accuracies? Which model had the highest average? Which was lowest? Is there much difference between the models' performance?\n",
        "\n",
        "Look at the decision tree, what are the features that the decision tree is looking at to make its decisions? Why did the decision tree choose to look at those features? (answered below the decision tree)\n",
        "\n",
        "Create text cells below and answer these questions."
      ]
    },
    {
      "cell_type": "markdown",
      "metadata": {
        "id": "XZoYv8JqOKdc"
      },
      "source": [
        "*Answers:*\n",
        "\n",
        "The results of the models change because the training set and test set are splitted at random every time we run the code.\n",
        "\n",
        "***\n",
        "\n",
        "**Round 1 Accuracies:**\n",
        "\n",
        "Guassian Model = 0.81818\n",
        "***\n",
        "K-Nearest Neighbors Model = 0.72078\n",
        "***\n",
        "Decision Tree Model = 0.77273\n",
        "***\n",
        "**Round 2 Accuracies:**\n",
        "\n",
        "Guassian Model = 0.70130\n",
        "***\n",
        "K-Nearest Neighbors Model = 0.71429\n",
        "***\n",
        "Decision Tree Model = 0.77922\n",
        "***\n",
        "**Round 3 Accuracies:**\n",
        "\n",
        "Guassian Model = 0.72078\n",
        "***\n",
        "K-Nearest Neighbors Model = 0.66883\n",
        "***\n",
        "Decision Tree Model = 0.74675\n",
        "***\n",
        "\n",
        "\n"
      ]
    },
    {
      "cell_type": "markdown",
      "metadata": {
        "id": "7iT8xegkOKkK"
      },
      "source": [
        "**Average Accuracies**\n",
        "\n",
        "Guassian Model = 0.74675\n",
        "***\n",
        "K-Nearest Neighbors = 0.70130\n",
        "***\n",
        "Decision Tree Model = 0.76623\n",
        "***\n"
      ]
    },
    {
      "cell_type": "markdown",
      "metadata": {
        "id": "aW8-vgdlgpEH"
      },
      "source": [
        "The Decision Tree Model has the highest average whereas the K-Nearest Neightbors Model has the lowest average. \n",
        "\n",
        "The Guassian Model has a high accuracy in the first round but the Decision Tree model stands with more accuracy in the other two rounds. However, this is calculated from randomly generated data, so it can fluctutate. The K-nearest neighbor is usually the one with lower accuracy than the other two and its average is also the lowest. Overall the performance of all three models is quite close to each other in some rounds whereas in some rounds there is a vast difference, for eg. in round 2 where the accuracy of the Decision Tree model was greater by 7 points than the lowest one.  "
      ]
    },
    {
      "cell_type": "code",
      "metadata": {
        "id": "xyujKA-JiVOY",
        "outputId": "b1719602-da20-418b-d15f-015d11374dd8",
        "colab": {
          "base_uri": "https://localhost:8080/",
          "height": 683
        }
      },
      "source": [
        "#5.\n",
        "#Plotting the resulting tree\n",
        "plt.figure(figsize=(20,12))\n",
        "tree.plot_tree(dtpima_model)\n",
        "plt.show()"
      ],
      "execution_count": null,
      "outputs": [
        {
          "output_type": "display_data",
          "data": {
            "image/png": "[encoded data removed]",
            "text/plain": [
              "<Figure size 1440x864 with 1 Axes>"
            ]
          },
          "metadata": {
            "tags": [],
            "needs_background": "light"
          }
        }
      ]
    },
    {
      "cell_type": "markdown",
      "metadata": {
        "id": "yy5vnmGxjlm9"
      },
      "source": [
        "**Question**: Look at the decision tree, what are the features that the decision tree is looking at to make its decisions? Why did the decision tree choose to look at those features? \n",
        "\n",
        "*Answer:* The features that the decision tree is looking at to make its decisions are X[1]:Glucose, X[5]:BMI and X[7]:Age. \n",
        "\n",
        "The decision tree chose to look at those features because those features are most informative than others. The first split is made on the most informative feature and then at every split, entropy and information gain are recomputed and again the most informative feature is chosen. \n",
        "\n",
        "***\n"
      ]
    },
    {
      "cell_type": "markdown",
      "metadata": {
        "id": "CiFfkW4Lsov7"
      },
      "source": [
        "# Part Two\n",
        "\n",
        "In this part we trim the dataset down to three features. Then we clean the dataset by removing rows that are missing values. Finally we standardize the features to provide feature magnitude consistency for the distance calculations of k nearest neighbors.  The  code cell below creates a new dataset, pima_clean, and then generates standardized training and testing data.\n",
        "\n",
        "We will now see if the performance changes. Repeat the code above that creates the three different models and evaluates them. You don't need to plot the decision tree this time, although do produce it's confusion matrix.\n"
      ]
    },
    {
      "cell_type": "code",
      "metadata": {
        "id": "2D4QNKd_QBsY"
      },
      "source": [
        "# Pull out just three columns into a new dataset\n",
        "pima_clean = pima.loc[:,['Glucose','BMI','Age','Outcome']].copy()\n",
        "\n",
        "# Clean the data\n",
        "# Replace the 0's with NaN (not a number)\n",
        "# then use dropna to drop all rows containing a NaN\n",
        "pima_clean['Glucose'].replace(0, np.nan, inplace=True)\n",
        "pima_clean['BMI'].replace(0, np.nan, inplace=True)\n",
        "pima_clean['Age'].replace(0, np.nan, inplace=True)\n",
        "pima_clean = pima_clean.dropna()\n",
        "\n",
        "# Create training and test sets\n",
        "training_set, test_set = train_test_split(pima_clean, test_size=0.20)\n",
        "\n",
        "# Use the first two features for training\n",
        "# Using only two features means we can plot the training points\n",
        "training_features = training_set.iloc[:,:-1]\n",
        "# Targets are at the end\n",
        "training_targets = training_set.iloc[:,-1]\n",
        "\n",
        "# Pull out the same features and targets from test set\n",
        "testing_features = test_set.iloc[:,:-1]\n",
        "testing_targets = test_set.iloc[:,-1]\n",
        "\n",
        "# Scale each feature to have to a mean of 0 and std. dev. of 1\n",
        "feature_scaler = StandardScaler().fit(training_features)\n",
        "training_features = feature_scaler.transform(training_features)\n",
        "testing_features = feature_scaler.transform(testing_features)"
      ],
      "execution_count": null,
      "outputs": []
    },
    {
      "cell_type": "code",
      "metadata": {
        "id": "7ZRmlmu7kCO3",
        "outputId": "1ee4c1c8-f475-4427-e5e0-66d4c36b17db",
        "colab": {
          "base_uri": "https://localhost:8080/",
          "height": 35
        }
      },
      "source": [
        "#Creating a Guassian Naive Bayes Model using the default parameters and fitting it to the training data\n",
        "gnbclean_model = GaussianNB()\n",
        "gnbclean_model.fit(training_features, training_targets)"
      ],
      "execution_count": null,
      "outputs": [
        {
          "output_type": "execute_result",
          "data": {
            "text/plain": [
              "GaussianNB(priors=None, var_smoothing=1e-09)"
            ]
          },
          "metadata": {
            "tags": []
          },
          "execution_count": 14
        }
      ]
    },
    {
      "cell_type": "code",
      "metadata": {
        "id": "LsL7FAMgkCT5",
        "outputId": "690448e2-05c7-4c0c-8cc4-12cb5864e2bf",
        "colab": {
          "base_uri": "https://localhost:8080/",
          "height": 297
        }
      },
      "source": [
        "#Plotting the resulting confusion matrix using the testing data\n",
        "plot_confusion_matrix(gnbclean_model, testing_features, testing_targets, labels=[1, 0])"
      ],
      "execution_count": null,
      "outputs": [
        {
          "output_type": "execute_result",
          "data": {
            "text/plain": [
              "<sklearn.metrics._plot.confusion_matrix.ConfusionMatrixDisplay at 0x7f9bc740c0f0>"
            ]
          },
          "metadata": {
            "tags": []
          },
          "execution_count": 15
        },
        {
          "output_type": "display_data",
          "data": {
            "image/png": "[encoded data removed]",
            "text/plain": [
              "<Figure size 432x288 with 2 Axes>"
            ]
          },
          "metadata": {
            "tags": [],
            "needs_background": "light"
          }
        }
      ]
    },
    {
      "cell_type": "code",
      "metadata": {
        "id": "kZfE_0t4kCXO",
        "outputId": "17bc2ded-490d-415e-cf66-bee5d0d22a60",
        "colab": {
          "base_uri": "https://localhost:8080/",
          "height": 72
        }
      },
      "source": [
        "#Creating a K-nearest neighbors model using the default parameters and fitting it to the training data\n",
        "knnclean_model = KNeighborsClassifier(metric='euclidean', n_neighbors=5)\n",
        "knnclean_model.fit(training_features, training_targets)"
      ],
      "execution_count": null,
      "outputs": [
        {
          "output_type": "execute_result",
          "data": {
            "text/plain": [
              "KNeighborsClassifier(algorithm='auto', leaf_size=30, metric='euclidean',\n",
              "                     metric_params=None, n_jobs=None, n_neighbors=5, p=2,\n",
              "                     weights='uniform')"
            ]
          },
          "metadata": {
            "tags": []
          },
          "execution_count": 16
        }
      ]
    },
    {
      "cell_type": "code",
      "metadata": {
        "id": "qC_2CEcUkCSc",
        "outputId": "4017dfc6-b81b-458e-eff5-e517090d8f1c",
        "colab": {
          "base_uri": "https://localhost:8080/",
          "height": 297
        }
      },
      "source": [
        "#Plotting the resulting confusion matrix using the testing data\n",
        "plot_confusion_matrix(knnclean_model, testing_features, testing_targets, labels=[1, 0])"
      ],
      "execution_count": null,
      "outputs": [
        {
          "output_type": "execute_result",
          "data": {
            "text/plain": [
              "<sklearn.metrics._plot.confusion_matrix.ConfusionMatrixDisplay at 0x7f9bc41fad30>"
            ]
          },
          "metadata": {
            "tags": []
          },
          "execution_count": 17
        },
        {
          "output_type": "display_data",
          "data": {
            "image/png": "[encoded data removed]",
            "text/plain": [
              "<Figure size 432x288 with 2 Axes>"
            ]
          },
          "metadata": {
            "tags": [],
            "needs_background": "light"
          }
        }
      ]
    },
    {
      "cell_type": "code",
      "metadata": {
        "id": "e-0iHJdAkCK6",
        "outputId": "29f176be-4755-4190-af86-e1ae81560001",
        "colab": {
          "base_uri": "https://localhost:8080/",
          "height": 126
        }
      },
      "source": [
        "#Creating a Decision Tree model using entropy for attribute selection and a depth limit of 3\n",
        "dtclean_model = tree.DecisionTreeClassifier(criterion='entropy', max_depth=3)\n",
        "dtclean_model.fit(training_features, training_targets)"
      ],
      "execution_count": null,
      "outputs": [
        {
          "output_type": "execute_result",
          "data": {
            "text/plain": [
              "DecisionTreeClassifier(ccp_alpha=0.0, class_weight=None, criterion='entropy',\n",
              "                       max_depth=3, max_features=None, max_leaf_nodes=None,\n",
              "                       min_impurity_decrease=0.0, min_impurity_split=None,\n",
              "                       min_samples_leaf=1, min_samples_split=2,\n",
              "                       min_weight_fraction_leaf=0.0, presort='deprecated',\n",
              "                       random_state=None, splitter='best')"
            ]
          },
          "metadata": {
            "tags": []
          },
          "execution_count": 18
        }
      ]
    },
    {
      "cell_type": "code",
      "metadata": {
        "id": "l-Amxa4mkCI_",
        "outputId": "c7b6fddd-f1c3-4267-9e10-3aaa72074a58",
        "colab": {
          "base_uri": "https://localhost:8080/",
          "height": 297
        }
      },
      "source": [
        "#Plotting the resulting confusion matrix using the testing data\n",
        "plot_confusion_matrix(dtclean_model, testing_features, testing_targets, labels=[1,0])"
      ],
      "execution_count": null,
      "outputs": [
        {
          "output_type": "execute_result",
          "data": {
            "text/plain": [
              "<sklearn.metrics._plot.confusion_matrix.ConfusionMatrixDisplay at 0x7f9bc6e39e80>"
            ]
          },
          "metadata": {
            "tags": []
          },
          "execution_count": 19
        },
        {
          "output_type": "display_data",
          "data": {
            "image/png": "[encoded data removed]",
            "text/plain": [
              "<Figure size 432x288 with 2 Axes>"
            ]
          },
          "metadata": {
            "tags": [],
            "needs_background": "light"
          }
        }
      ]
    },
    {
      "cell_type": "markdown",
      "metadata": {
        "id": "DNUtyztNUg-0"
      },
      "source": [
        "## Short Answer Two\n",
        "\n",
        "**Question to answer**: Why might I trim the dataset down to just three features? Why might I have picked those features? In general, what effect on model performance would you expect from cutting features from the data?\n",
        "\n",
        "In general, what effect on model performance would you expect from cleaning the data, i.e. removing data points that are missing values?\n",
        "\n",
        "\n",
        "Again, run the above code (Part Two) three times (including the separation of training and testing sets) and calculate the accuracy for each model for each run. How do the models fare this time? How do the results compare to before?\n",
        "\n",
        "Create text cells below and answer these questions."
      ]
    },
    {
      "cell_type": "markdown",
      "metadata": {
        "id": "Z7bxCcvWECyE"
      },
      "source": [
        "*Answer:* You might have trimmed down the dataset to just three features in order to include only the most relevant features helpful for predicting the outcome which is whether an individual tested positive for diabetes. \n",
        "\n",
        "You might have picked those features because those three features are represented in the decision tree that we made earlier which denotes that those features have a higher information gain than other features and are more useful for predicting the outcome. Those three features might have been the most relevant and might have the most effect for predicting the outcome about diabetes.  \n",
        "\n",
        "In general, I would expect the model performance to improve from cutting features from the data because irrelavant features can hurt model performance. This negative effect on the performance of the model could be eliminated by removing irrelavant features.   \n",
        "\n",
        "*Answer:* In general I would expect a reduced model perfomance from cleaning the data, i.e. removing data points that are missing values because the total number of data points to train the model will go down which can reduce model performance unless we have a very large dataset that can cover up for the reduction in data points.  \n"
      ]
    },
    {
      "cell_type": "markdown",
      "metadata": {
        "id": "U0HQzvYcqMVS"
      },
      "source": [
        "**Round 1 Accuracies:**\n",
        "\n",
        "Guassian Model = 0.688741\n",
        "***\n",
        "K-Nearest Neighbors Model = 0.735099\n",
        "***\n",
        "Decision Tree Model = 0.708609\n",
        "***\n",
        "**Round 2 Accuracies:**\n",
        "\n",
        "Guassian Model = 0.794702\n",
        "***\n",
        "K-Nearest Neighbors Model = 0.675497\n",
        "***\n",
        "Decision Tree Model = 0.781457\n",
        "***\n",
        "**Round 3 Accuracies:**\n",
        "\n",
        "Guassian Model = 0.807947\n",
        "***\n",
        "K-Nearest Neighbors Model = 0.774834\n",
        "***\n",
        "Decision Tree Model = 0.761589\n",
        "***\n",
        "\n",
        "**Average Accuracies**\n",
        "\n",
        "Guassian Model = 0.763797\n",
        "***\n",
        "K-Nearest Neighbors = 0.728477\n",
        "***\n",
        "Decision Tree Model = 0.750552\n",
        "***\n"
      ]
    },
    {
      "cell_type": "markdown",
      "metadata": {
        "id": "zv3A-KcMssoD"
      },
      "source": [
        "The model that has the highest average accuracy is Guassian Model this time and the model with the lowest average accuracy is the K-nearest neighbor model. But all three models show closer performance accuracies than the models from the original dataset. The Guassian model which has the highest accuracies in the second and third rounds (in the upper 70%s), has an accuracy of less than 70% in the first round in the cleaned dataset. \n",
        "\n",
        "The averages for the cleaned dataset are quite similar to those for the original dataset and are up or down by just a few points. Overall the K-nearest neighbors model shows a better perfomance in the cleaned dataset than the original. The individual accuracies are sometimes similar whereas sometimes higher for the cleaned dataset than the original dataset.  "
      ]
    },
    {
      "cell_type": "code",
      "metadata": {
        "id": "IRO9j-Mjfe-J"
      },
      "source": [
        ""
      ],
      "execution_count": null,
      "outputs": []
    }
  ]
}
